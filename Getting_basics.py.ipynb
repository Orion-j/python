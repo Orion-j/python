{
 "cells": [
  {
   "cell_type": "code",
   "execution_count": 18,
   "id": "ae499814",
   "metadata": {},
   "outputs": [
    {
     "name": "stdout",
     "output_type": "stream",
     "text": [
      "bigger always.\n",
      "Done! \n",
      "\n",
      "0\n",
      "1\n",
      "2\n",
      "3\n",
      "4\n",
      "done with i\n",
      "All done!\n"
     ]
    }
   ],
   "source": [
    "# try out codes. start...\n",
    "x = 5\n",
    "if x > 2:\n",
    "    print('bigger always.')\n",
    "print('Done! \\n')\n",
    "\n",
    "for i in range(5):\n",
    "    print(i)\n",
    "print('done with i')\n",
    "print('All done!')      "
   ]
  },
  {
   "cell_type": "code",
   "execution_count": 3,
   "id": "c19eeb72",
   "metadata": {},
   "outputs": [
    {
     "name": "stdout",
     "output_type": "stream",
     "text": [
      "First -1\n"
     ]
    }
   ],
   "source": [
    "# try/except handler.\n",
    "astr = 'Hello Joe'\n",
    "try:\n",
    "    astr1 = int(astr)\n",
    "except:\n",
    "    astr =- 1\n",
    "print('First', astr)"
   ]
  },
  {
   "cell_type": "code",
   "execution_count": 1,
   "id": "fa054ace",
   "metadata": {},
   "outputs": [
    {
     "name": "stdout",
     "output_type": "stream",
     "text": [
      "Second 123\n"
     ]
    }
   ],
   "source": [
    "# try/except more example.\n",
    "\n",
    "istr = '123'\n",
    "try:\n",
    "    istr1 = int(istr)\n",
    "except:\n",
    "    istr =- 1\n",
    "\n",
    "print('Second', istr)"
   ]
  },
  {
   "cell_type": "code",
   "execution_count": 9,
   "id": "26fc007a",
   "metadata": {},
   "outputs": [
    {
     "name": "stdout",
     "output_type": "stream",
     "text": [
      "Welcome to programming with Joe\n",
      "done!\n"
     ]
    }
   ],
   "source": [
    "# a function.\n",
    "def myself(name): # --> pass parameter\n",
    "    print(f'Welcome to programming with {name}')\n",
    "\n",
    "# invoke/call the function myself(name).\n",
    "myself(\"Joe\") # --> pass argument.\n",
    "print('done!')"
   ]
  },
  {
   "cell_type": "code",
   "execution_count": 11,
   "id": "31b8de0a",
   "metadata": {},
   "outputs": [
    {
     "name": "stdout",
     "output_type": "stream",
     "text": [
      "Hello Joe\n"
     ]
    }
   ],
   "source": [
    "# return values\n",
    "def hello():\n",
    "    return 'Hello'\n",
    "print(hello(), 'Joe')"
   ]
  },
  {
   "cell_type": "code",
   "execution_count": 12,
   "id": "d0db267f",
   "metadata": {},
   "outputs": [
    {
     "name": "stdout",
     "output_type": "stream",
     "text": [
      "Hola Joe\n",
      "salut Orion\n",
      "Hello Boadi\n"
     ]
    }
   ],
   "source": [
    "# more into return value.\n",
    "def greet(lang):\n",
    "    if lang == 'es':\n",
    "        return 'Hola'\n",
    "    elif lang == 'fr':\n",
    "        return 'salut'\n",
    "    else:\n",
    "        return 'Hello'\n",
    "    \n",
    "print(greet('es'), 'Joe')\n",
    "print(greet('fr'), 'Orion')\n",
    "print(greet('en'), 'Boadi')"
   ]
  },
  {
   "cell_type": "code",
   "execution_count": 11,
   "id": "946505c6",
   "metadata": {},
   "outputs": [
    {
     "name": "stdout",
     "output_type": "stream",
     "text": [
      "the large number in the list is 110\n"
     ]
    }
   ],
   "source": [
    "# the largest number in the list.\n",
    "\n",
    "_largeNumber = 0\n",
    "numberList = [23, 45, 76, 100, 67, 110, 78, 99]\n",
    "# loop through list to assign number to _largeNumber.\n",
    "for number in numberList:\n",
    "    if number > _largeNumber:\n",
    "        _largeNumber =  number\n",
    "print('the large number in the list is',_largeNumber)"
   ]
  },
  {
   "cell_type": "code",
   "execution_count": 13,
   "id": "4db27e0e",
   "metadata": {},
   "outputs": [
    {
     "name": "stdout",
     "output_type": "stream",
     "text": [
      "smallest in the list is 23\n"
     ]
    }
   ],
   "source": [
    "# finding the smallest number.\n",
    "\n",
    "_smallNumber = 25 \n",
    "#assifned value should be greater than the smallest in the list,\n",
    "# to return true\n",
    "numberList = [23, 45, 76, 100, 67, 110, 78, 99]\n",
    "for number in numberList:\n",
    "    if number < _smallNumber:\n",
    "        _smallNumber = number\n",
    "print('smallest in the list is', _smallNumber)\n",
    "              "
   ]
  },
  {
   "cell_type": "code",
   "execution_count": 28,
   "id": "cfe44ba7",
   "metadata": {},
   "outputs": [
    {
     "name": "stdout",
     "output_type": "stream",
     "text": [
      "Length of the word is 12\n",
      "second alphabet in the word at index 1 is w \n",
      "\n",
      "At index 0 is K\n",
      "At index 1 is w\n",
      "At index 2 is a\n",
      "At index 3 is d\n",
      "At index 4 is j\n",
      "At index 5 is o\n"
     ]
    }
   ],
   "source": [
    "# string manipluation\n",
    "word = \"Kwadjo Boadi\"\n",
    "print('Length of the word is',len(word))\n",
    "print('second alphabet in the word at index 1 is',word[1], '\\n')\n",
    "\n",
    "word2 = 'Kwadjo'\n",
    "index = 0\n",
    "while index < len(word2):\n",
    "    letter = word2[index]\n",
    "    print('At index',index,'is', letter)\n",
    "    index += 1"
   ]
  },
  {
   "cell_type": "code",
   "execution_count": 27,
   "id": "4959f613",
   "metadata": {
    "scrolled": false
   },
   "outputs": [
    {
     "name": "stdout",
     "output_type": "stream",
     "text": [
      "['__add__', '__class__', '__contains__', '__delattr__', '__dir__', '__doc__', '__eq__', '__format__', '__ge__', '__getattribute__', '__getitem__', '__getnewargs__', '__gt__', '__hash__', '__init__', '__init_subclass__', '__iter__', '__le__', '__len__', '__lt__', '__mod__', '__mul__', '__ne__', '__new__', '__reduce__', '__reduce_ex__', '__repr__', '__rmod__', '__rmul__', '__setattr__', '__sizeof__', '__str__', '__subclasshook__', 'capitalize', 'casefold', 'center', 'count', 'encode', 'endswith', 'expandtabs', 'find', 'format', 'format_map', 'index', 'isalnum', 'isalpha', 'isascii', 'isdecimal', 'isdigit', 'isidentifier', 'islower', 'isnumeric', 'isprintable', 'isspace', 'istitle', 'isupper', 'join', 'ljust', 'lower', 'lstrip', 'maketrans', 'partition', 'removeprefix', 'removesuffix', 'replace', 'rfind', 'rindex', 'rjust', 'rpartition', 'rsplit', 'rstrip', 'split', 'splitlines', 'startswith', 'strip', 'swapcase', 'title', 'translate', 'upper', 'zfill']\n"
     ]
    }
   ],
   "source": [
    "# more into strings, worth noting.\n",
    "word = \"Hi there\"\n",
    "print(dir(word)) # methods that can be applied to strings."
   ]
  },
  {
   "cell_type": "code",
   "execution_count": 32,
   "id": "b27183e5",
   "metadata": {},
   "outputs": [
    {
     "name": "stdout",
     "output_type": "stream",
     "text": [
      "web development(using html. css and javascript): with a textbox connected to the table below the textbox. draw a thin black solid border around \n",
      " \n",
      "\n",
      "the table and table elements. collapse borders. centre all the table elemets.\n",
      " \n",
      "\n",
      "set the fonts face of all the input elements to Courier New. set the width of all the buttons to 50px. \n",
      " \n",
      "\n",
      "the table should contain numbers from 1 to 9 with in between \"CLR\" button and \"ENT\" button as displayed on\n",
      " \n",
      "\n",
      "some device keypads.using javacript when the client clicks on one of the numbered buttons, display that number \n",
      " \n",
      "\n",
      "within the textbox.\n",
      " \n",
      "\n",
      "when the client clicks on several numbered button, display the full number/pin code to client has entered within\n",
      " \n",
      "\n",
      "the textbox. for example, if the client clicks on the 1,3,5 and 7 buttons(in that order),  the pin code 1357 should be\n",
      " \n",
      "\n",
      "displayed within the textbox. when the the client clicks on the \"ENT\" button, redirect the client to this \n",
      " \n",
      "\n",
      "homepage \"https://www.uws.ac.uk/\" . if the client has entered the pin  code 1234. otherwise bring up an alert box that tells\n",
      " \n",
      "\n",
      "the client an \"invalid pin code has been entered\". when the client clicks the \"CLR\" button, clear any value that has been \n",
      " \n",
      "\n",
      "entered into the textbox.  \n",
      "\n",
      "lines in the text file: 12\n"
     ]
    }
   ],
   "source": [
    "# reading and writing from file.\n",
    "\n",
    "_myFile = open('alice.txt') \n",
    "count = 0\n",
    "for word in _myFile: #retrieve a line from the text and display.\n",
    "    print(word,'\\n')\n",
    "    count = count + 1\n",
    "print('lines in the text file:', count) # display no. of lines in text."
   ]
  },
  {
   "cell_type": "code",
   "execution_count": 33,
   "id": "24d2c380",
   "metadata": {},
   "outputs": [
    {
     "name": "stdout",
     "output_type": "stream",
     "text": [
      "[1, 2, 3, 4, 5, 6]\n"
     ]
    }
   ],
   "source": [
    "#concatenating list.\n",
    "listItems = [1, 2, 3]\n",
    "listItems2 = [4, 5, 6]\n",
    "print(listItems + listItems2)"
   ]
  },
  {
   "cell_type": "code",
   "execution_count": 36,
   "id": "4be62449",
   "metadata": {},
   "outputs": [
    {
     "name": "stdout",
     "output_type": "stream",
     "text": [
      "[3, 4, 5, 6]\n",
      "['__add__', '__class__', '__class_getitem__', '__contains__', '__delattr__', '__delitem__', '__dir__', '__doc__', '__eq__', '__format__', '__ge__', '__getattribute__', '__getitem__', '__gt__', '__hash__', '__iadd__', '__imul__', '__init__', '__init_subclass__', '__iter__', '__le__', '__len__', '__lt__', '__mul__', '__ne__', '__new__', '__reduce__', '__reduce_ex__', '__repr__', '__reversed__', '__rmul__', '__setattr__', '__setitem__', '__sizeof__', '__str__', '__subclasshook__', 'append', 'clear', 'copy', 'count', 'extend', 'index', 'insert', 'pop', 'remove', 'reverse', 'sort']\n"
     ]
    }
   ],
   "source": [
    "newItems = listItems + listItems2\n",
    "print(newItems[2:]) # slicing\n",
    "print(dir(newItems)) # methods to be used on list."
   ]
  },
  {
   "cell_type": "code",
   "execution_count": 37,
   "id": "afc59449",
   "metadata": {},
   "outputs": [
    {
     "name": "stdout",
     "output_type": "stream",
     "text": [
      "['come', 'here', 'now']\n"
     ]
    }
   ],
   "source": [
    "# strings and list\n",
    "word = \" come here now\"\n",
    "word_list = word.split()\n",
    "print(word_list)"
   ]
  },
  {
   "cell_type": "code",
   "execution_count": 11,
   "id": "f0f92924",
   "metadata": {},
   "outputs": [
    {
     "name": "stdout",
     "output_type": "stream",
     "text": [
      "enter number: 6\n",
      "enter number: 8\n",
      "enter number: 56\n",
      "enter number: 10\n",
      "enter number: 76\n",
      "enter number: 7\n",
      "enter number: 9\n",
      "enter number: done\n",
      "\n",
      " your list [6, 8, 56, 10, 76, 7, 9]\n",
      "total of your input 172\n",
      "Avg of numbers entered 24.571428571428573\n"
     ]
    }
   ],
   "source": [
    "total = 0\n",
    "count = 0\n",
    "some_list = list() # initialise a list.\n",
    "\n",
    "while True:\n",
    "    user_input = input(\"enter number: \")\n",
    "    if user_input == 'done': \n",
    "        break\n",
    "        \n",
    "    value = int(user_input)\n",
    "    some_list.append(value)\n",
    "    total = total + value\n",
    "    count = count + 1\n",
    "    avg = total/count\n",
    "    \n",
    "print('\\nyour list', some_list)\n",
    "print('total of your input',total)\n",
    "print('Avg of numbers entered', avg)  "
   ]
  },
  {
   "cell_type": "code",
   "execution_count": 13,
   "id": "fad00303",
   "metadata": {},
   "outputs": [
    {
     "name": "stdout",
     "output_type": "stream",
     "text": [
      "file name: alice.txt\n",
      "the word \"the\" appeared 29 times.\n"
     ]
    }
   ],
   "source": [
    "# use 'alice.txt' as sample file to work on.\n",
    "# otherwise:  put a .txt file in the dir.\n",
    "fileName = input('file name: ')\n",
    "# open and read file user inputs\n",
    "myFile = open(fileName)\n",
    "    \n",
    "# fetch word(s) in file and store in dict. \n",
    "counts = dict()\n",
    "for line in myFile:\n",
    "    words = line.split()\n",
    "    for word in words:\n",
    "        counts[word] =counts.get(word, 0) + 1\n",
    "\n",
    "# count words which appears most.     \n",
    "bigCount = None\n",
    "bigWord = None\n",
    "for word, count in counts.items():\n",
    "    if bigCount is None or count > bigCount:\n",
    "        bigWord = word\n",
    "        bigCount = count\n",
    "print(f'the word \"{bigWord}\" appeared {bigCount} times.')"
   ]
  },
  {
   "cell_type": "code",
   "execution_count": 16,
   "id": "d71645ab",
   "metadata": {},
   "outputs": [
    {
     "name": "stdout",
     "output_type": "stream",
     "text": [
      "Hi evans\n",
      "Hi joe\n",
      "Hi obed\n",
      "Hi michael\n"
     ]
    }
   ],
   "source": [
    "# range\n",
    "friends = ['evans', 'joe', 'obed', 'michael']\n",
    "for i in range(len(friends)):\n",
    "    friend = friends[i]\n",
    "    print('Hi', friend)"
   ]
  },
  {
   "cell_type": "code",
   "execution_count": 17,
   "id": "ee41905b",
   "metadata": {},
   "outputs": [
    {
     "ename": "SyntaxError",
     "evalue": "invalid syntax (295683649.py, line 2)",
     "output_type": "error",
     "traceback": [
      "\u001b[1;36m  Input \u001b[1;32mIn [17]\u001b[1;36m\u001b[0m\n\u001b[1;33m    theList = [3, 5, 5, 7, 8, ,10, 59]\u001b[0m\n\u001b[1;37m                              ^\u001b[0m\n\u001b[1;31mSyntaxError\u001b[0m\u001b[1;31m:\u001b[0m invalid syntax\n"
     ]
    }
   ],
   "source": [
    "# total in a list\n",
    "theList = [3, 5, 5, 7, 8, ,10, 59]\n",
    "total = 0\n",
    "for i in range(len(theList)):\n",
    "    digit = theList[i]\n",
    "    total = total + digit\n",
    "print(total)"
   ]
  },
  {
   "cell_type": "code",
   "execution_count": null,
   "id": "3e63b3de",
   "metadata": {},
   "outputs": [],
   "source": []
  }
 ],
 "metadata": {
  "kernelspec": {
   "display_name": "Python 3 (ipykernel)",
   "language": "python",
   "name": "python3"
  },
  "language_info": {
   "codemirror_mode": {
    "name": "ipython",
    "version": 3
   },
   "file_extension": ".py",
   "mimetype": "text/x-python",
   "name": "python",
   "nbconvert_exporter": "python",
   "pygments_lexer": "ipython3",
   "version": "3.9.12"
  }
 },
 "nbformat": 4,
 "nbformat_minor": 5
}
